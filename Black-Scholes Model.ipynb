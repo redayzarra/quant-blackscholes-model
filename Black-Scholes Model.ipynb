{
 "cells": [
  {
   "cell_type": "markdown",
   "id": "24a14b53",
   "metadata": {},
   "source": [
    "# Black-Scholes Model"
   ]
  },
  {
   "cell_type": "markdown",
   "id": "ecf575be",
   "metadata": {},
   "source": [
    "### by ReDay Zarra"
   ]
  }
 ],
 "metadata": {
  "kernelspec": {
   "display_name": "Python 3 (ipykernel)",
   "language": "python",
   "name": "python3"
  },
  "language_info": {
   "codemirror_mode": {
    "name": "ipython",
    "version": 3
   },
   "file_extension": ".py",
   "mimetype": "text/x-python",
   "name": "python",
   "nbconvert_exporter": "python",
   "pygments_lexer": "ipython3",
   "version": "3.9.13"
  }
 },
 "nbformat": 4,
 "nbformat_minor": 5
}
